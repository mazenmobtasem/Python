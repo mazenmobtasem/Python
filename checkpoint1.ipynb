{
 "cells": [
  {
   "cell_type": "code",
   "execution_count": 1,
   "id": "e45e8615",
   "metadata": {},
   "outputs": [
    {
     "name": "stdout",
     "output_type": "stream",
     "text": [
      "please enter your first name : ahmed\n",
      "please enter your second name : diaa\n",
      "diaa ahmed\n"
     ]
    }
   ],
   "source": [
    "#Question 1\n",
    "x=input(\"please enter your first name : \")\n",
    "y=input(\"please enter your second name : \")\n",
    "print(y+\" \"+x)"
   ]
  },
  {
   "cell_type": "code",
   "execution_count": 3,
   "id": "fe5bbb34",
   "metadata": {},
   "outputs": [
    {
     "name": "stdout",
     "output_type": "stream",
     "text": [
      "please enter a number : 5\n",
      "615\n"
     ]
    }
   ],
   "source": [
    "#Question 2\n",
    "x = int(input(\"please enter a number : \"))\n",
    "\n",
    "v = str(x)\n",
    "v1 = v+v\n",
    "v2 = v+v+v\n",
    "\n",
    "result = x + int(v1) + int(v2)\n",
    "\n",
    "print(result)\n"
   ]
  },
  {
   "cell_type": "code",
   "execution_count": 4,
   "id": "57269c3f",
   "metadata": {},
   "outputs": [
    {
     "name": "stdout",
     "output_type": "stream",
     "text": [
      "please enter a number : 5\n",
      "number is odd\n"
     ]
    }
   ],
   "source": [
    "#Question 3\n",
    "x = int(input(\"please enter a number : \"))\n",
    "\n",
    "if (x % 2) == 0:\n",
    "    print(\"number is even\")\n",
    "else:\n",
    "    print(\"number is odd\")\n"
   ]
  },
  {
   "cell_type": "code",
   "execution_count": 5,
   "id": "c3fce9d9",
   "metadata": {},
   "outputs": [
    {
     "name": "stdout",
     "output_type": "stream",
     "text": [
      "2002 , 2009 , 2016 , 2023 , 2037 , 2044 , 2051 , 2058 , 2072 , 2079 , 2086 , 2093 , 2107 , 2114 , 2121 , 2128 , 2142 , 2149 , 2156 , 2163 , 2177 , 2184 , 2191 , 2198 , 2212 , 2219 , 2226 , 2233 , 2247 , 2254 , 2261 , 2268 , 2282 , 2289 , 2296 , 2303 , 2317 , 2324 , 2331 , 2338 , 2352 , 2359 , 2366 , 2373 , 2387 , 2394 , 2401 , 2408 , 2422 , 2429 , 2436 , 2443 , 2457 , 2464 , 2471 , 2478 , 2492 , 2499 , 2506 , 2513 , 2527 , 2534 , 2541 , 2548 , 2562 , 2569 , 2576 , 2583 , 2597 , 2604 , 2611 , 2618 , 2632 , 2639 , 2646 , 2653 , 2667 , 2674 , 2681 , 2688 , 2702 , 2709 , 2716 , 2723 , 2737 , 2744 , 2751 , 2758 , 2772 , 2779 , 2786 , 2793 , 2807 , 2814 , 2821 , 2828 , 2842 , 2849 , 2856 , 2863 , 2877 , 2884 , 2891 , 2898 , 2912 , 2919 , 2926 , 2933 , 2947 , 2954 , 2961 , 2968 , 2982 , 2989 , 2996 , 3003 , 3017 , 3024 , 3031 , 3038 , 3052 , 3059 , 3066 , 3073 , 3087 , 3094 , 3101 , 3108 , 3122 , 3129 , 3136 , 3143 , 3157 , 3164 , 3171 , 3178 , 3192 , 3199 , "
     ]
    }
   ],
   "source": [
    "#Question 4\n",
    "for i in range(2000, 3200):\n",
    "    if (i % 7) == 0 and (i % 5) != 0:\n",
    "        print(i, end=\" , \")\n"
   ]
  },
  {
   "cell_type": "code",
   "execution_count": 10,
   "id": "4c27a972",
   "metadata": {},
   "outputs": [
    {
     "name": "stdout",
     "output_type": "stream",
     "text": [
      "please enter the number : 5\n",
      "5 20 60 120 "
     ]
    }
   ],
   "source": [
    "#Question 5\n",
    "x = int(input(\"please enter the number : \"))\n",
    "y = 1\n",
    "value = 1\n",
    "while x > y:\n",
    "    value = value * x\n",
    "    x = x - 1\n",
    "    print(value, end=\" \")\n"
   ]
  },
  {
   "cell_type": "code",
   "execution_count": 11,
   "id": "ea42143d",
   "metadata": {},
   "outputs": [
    {
     "name": "stdout",
     "output_type": "stream",
     "text": [
      "please enter your number : 5\n",
      "1 2 6 24 120 "
     ]
    }
   ],
   "source": [
    "#Question 5 alternative answer\n",
    "y = int(input(\"please enter your number : \"))\n",
    "fac = 1\n",
    "if y < 0:\n",
    "    print(\"value cannot be a negative number\")\n",
    "elif y == 0:\n",
    "    print(\"the factorial of 0 is 1 \")\n",
    "else:\n",
    "    for x in range(1, y+1):\n",
    "        fac = fac*x\n",
    "        print(fac, end=\" \")\n"
   ]
  },
  {
   "cell_type": "code",
   "execution_count": 13,
   "id": "cfef6331",
   "metadata": {},
   "outputs": [
    {
     "name": "stdout",
     "output_type": "stream",
     "text": [
      "enter your line : Hello team\n",
      "the result is   Hlota\n"
     ]
    }
   ],
   "source": [
    "#Question 6\n",
    "x = input(\"enter your line : \")\n",
    "y = \" \"\n",
    "for i in range(len(x)):\n",
    "    if i % 2 == 0:\n",
    "        y = y + x[i]\n",
    "print(\"the result is \", y)\n"
   ]
  },
  {
   "cell_type": "code",
   "execution_count": 14,
   "id": "7d801a66",
   "metadata": {},
   "outputs": [
    {
     "name": "stdout",
     "output_type": "stream",
     "text": [
      "please enter the price : 350\n",
      "The price after discount is :  245.0\n"
     ]
    }
   ],
   "source": [
    "#Question 7\n",
    "x = int(input(\"please enter the price : \"))\n",
    "\n",
    "if x >= 500:\n",
    "    x = x / 2\n",
    "    print(\"The price after discount is : \", float(x))\n",
    "elif x in range(200, 499):\n",
    "    x = x - float(x * 0.3)\n",
    "    print(\"The price after discount is : \", x)\n",
    "else:\n",
    "    x = x - float(x * 0.1)\n",
    "    print(\"The price after discount is : \", x)\n"
   ]
  },
  {
   "cell_type": "code",
   "execution_count": null,
   "id": "a11636ed",
   "metadata": {},
   "outputs": [],
   "source": []
  }
 ],
 "metadata": {
  "kernelspec": {
   "display_name": "Python 3",
   "language": "python",
   "name": "python3"
  },
  "language_info": {
   "codemirror_mode": {
    "name": "ipython",
    "version": 3
   },
   "file_extension": ".py",
   "mimetype": "text/x-python",
   "name": "python",
   "nbconvert_exporter": "python",
   "pygments_lexer": "ipython3",
   "version": "3.8.8"
  }
 },
 "nbformat": 4,
 "nbformat_minor": 5
}
