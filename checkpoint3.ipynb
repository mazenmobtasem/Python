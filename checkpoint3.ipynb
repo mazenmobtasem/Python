{
 "cells": [
  {
   "cell_type": "code",
   "execution_count": 2,
   "id": "3c3e9a75",
   "metadata": {},
   "outputs": [
    {
     "name": "stdout",
     "output_type": "stream",
     "text": [
      "please enter your first number : 5\n",
      "please enter your second number : 7\n",
      "please enter your third number : 9\n",
      "max number is :  9\n"
     ]
    }
   ],
   "source": [
    "def maxnum(a,b,c):\n",
    "    nums = [a, b, c]\n",
    "    return max(nums)\n",
    "x =int(input(\"please enter your first number : \"))\n",
    "y = int(input(\"please enter your second number : \"))\n",
    "z = int(input(\"please enter your third number : \"))\n",
    "print(\"max number is : \",maxnum(x,y,z))"
   ]
  },
  {
   "cell_type": "code",
   "execution_count": 3,
   "id": "58c92992",
   "metadata": {},
   "outputs": [
    {
     "name": "stdout",
     "output_type": "stream",
     "text": [
      "please enter your first number : 40\n",
      "please enter your second number : 10\n",
      "values are (50, 30)\n"
     ]
    }
   ],
   "source": [
    "#Question 2\n",
    "def calculation(a,b,):\n",
    "    x = a+b\n",
    "    y = a-b\n",
    "    return (x,y)\n",
    "j = input(\"please enter your first number : \")\n",
    "k = input(\"please enter your second number : \")\n",
    "print(\"values are\" , calculation(int(j),int(k)))\n"
   ]
  },
  {
   "cell_type": "code",
   "execution_count": 4,
   "id": "5b1366cb",
   "metadata": {},
   "outputs": [
    {
     "name": "stdout",
     "output_type": "stream",
     "text": [
      "The sum is \n",
      " 138 \n",
      "and multi is :\n",
      " 4851\n"
     ]
    }
   ],
   "source": [
    "#Question 3\n",
    "def sums(a):\n",
    "    x = 0\n",
    "    for i in a:\n",
    "        x = x + i\n",
    "    return (x)\n",
    "def multi(a):\n",
    "    x = 1\n",
    "    for i in a:\n",
    "        x = x * i\n",
    "    return (x)\n",
    "s = [2, 3, 9, 7, 100, 11, 5, 21, 22]\n",
    "a = []\n",
    "b = []\n",
    "for i in range(len(s)):\n",
    "    if i%2==0:\n",
    "        a.append(s[i])\n",
    "    else:\n",
    "        b.append(s[i])\n",
    "print(\"The sum is \\n\",sums(a),\"\\nand multi is :\\n\",multi(b))"
   ]
  },
  {
   "cell_type": "code",
   "execution_count": 5,
   "id": "89e3026e",
   "metadata": {},
   "outputs": [
    {
     "name": "stdout",
     "output_type": "stream",
     "text": [
      "enter your sentence : green-red-yellow-black-white\n",
      "black-green-red-white-yellow\n"
     ]
    }
   ],
   "source": [
    "#Question 4\n",
    "x = input(\"enter your sentence : \")\n",
    "z = x.split(\"-\")\n",
    "z.sort()\n",
    "c1=0\n",
    "for i in z:\n",
    "    c1+=1\n",
    "    if(c1>=len(z)):\n",
    "        print(i)\n",
    "        break\n",
    "    print(i,end=\"-\")\n"
   ]
  },
  {
   "cell_type": "code",
   "execution_count": 7,
   "id": "61c1e057",
   "metadata": {},
   "outputs": [
    {
     "name": "stdout",
     "output_type": "stream",
     "text": [
      "enter your numbers is a comma-separated sequence: 100,150,180\n",
      "[18, 22, 24]\n"
     ]
    }
   ],
   "source": [
    "#Question 5 (bonus)\n",
    "def sqrr(entry):\n",
    "    value = []\n",
    "    for i in entry:\n",
    "        k = (2 * 50 * int(i) / 30) ** 0.5\n",
    "        value.append(int(k))\n",
    "    return(value)\n",
    "\n",
    "x = input(\"enter your numbers is a comma-separated sequence: \")\n",
    "x = x.split(',')\n",
    "print(sqrr(x))\n"
   ]
  },
  {
   "cell_type": "code",
   "execution_count": null,
   "id": "fd178767",
   "metadata": {},
   "outputs": [],
   "source": []
  }
 ],
 "metadata": {
  "kernelspec": {
   "display_name": "Python 3",
   "language": "python",
   "name": "python3"
  },
  "language_info": {
   "codemirror_mode": {
    "name": "ipython",
    "version": 3
   },
   "file_extension": ".py",
   "mimetype": "text/x-python",
   "name": "python",
   "nbconvert_exporter": "python",
   "pygments_lexer": "ipython3",
   "version": "3.8.8"
  }
 },
 "nbformat": 4,
 "nbformat_minor": 5
}
