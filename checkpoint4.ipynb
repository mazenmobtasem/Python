{
 "cells": [
  {
   "cell_type": "code",
   "execution_count": 2,
   "id": "66d8a73b",
   "metadata": {},
   "outputs": [
    {
     "name": "stdout",
     "output_type": "stream",
     "text": [
      "(1,2,3)\n"
     ]
    }
   ],
   "source": [
    "#Question 1\n",
    "class Point3D:\n",
    "    def __init__(self, x, y, z):\n",
    "        self.x=x\n",
    "        self.y=y\n",
    "        self.z=z\n",
    "    def xyz(self):\n",
    "        return \"({},{},{})\".format(self.x,self.y,self.z)\n",
    "\n",
    "\n",
    "my_point=Point3D(1,2,3)\n",
    "print(my_point.xyz())"
   ]
  },
  {
   "cell_type": "code",
   "execution_count": 3,
   "id": "848d1b2e",
   "metadata": {},
   "outputs": [
    {
     "name": "stdout",
     "output_type": "stream",
     "text": [
      "12\n",
      "14\n"
     ]
    }
   ],
   "source": [
    "#Question 2\n",
    "class Rectangle():\n",
    "    def __init__(self,length,width):\n",
    "        self.length=length\n",
    "        self.width=width\n",
    "    def area(self):\n",
    "        return (self.length*self.width)\n",
    "    def primeter(self):\n",
    "        return (2*(self.length+self.width))\n",
    "my_rectangle=Rectangle(4,3)\n",
    "print(my_rectangle.area())\n",
    "print(my_rectangle.primeter())\n"
   ]
  },
  {
   "cell_type": "code",
   "execution_count": 4,
   "id": "db682d31",
   "metadata": {},
   "outputs": [
    {
     "name": "stdout",
     "output_type": "stream",
     "text": [
      "circle area is :  12.571428571428571\n",
      "circle primeter  is :  12.571428571428571\n",
      "this point is : inside the cirlce\n"
     ]
    }
   ],
   "source": [
    "#Question 3\n",
    "class Circle:\n",
    "    def __init__(self,o,r):\n",
    "        self.o=o\n",
    "        self.r=r\n",
    "    def area(self):\n",
    "        return ((22/7)*(self.r)**2)\n",
    "    def primeter(self):\n",
    "        return (2*(22/7)*self.r)\n",
    "    def isinside(self,j,k):\n",
    "        if ((j-self.o[0])**2)+((self.o[1]-k)**2)<=self.r*self.r:\n",
    "            return \"inside the cirlce\"\n",
    "        else :\n",
    "            return \"outside the circle\"\n",
    "\n",
    "my_circle=Circle((0,1),2)\n",
    "print(\"circle area is : \" , my_circle.area())\n",
    "print(\"circle primeter  is : \" ,my_circle.primeter())\n",
    "print(\"this point is :\",my_circle.isinside(1,2))\n"
   ]
  },
  {
   "cell_type": "code",
   "execution_count": 5,
   "id": "a6890e7f",
   "metadata": {},
   "outputs": [
    {
     "name": "stdout",
     "output_type": "stream",
     "text": [
      "please enter d for deposite or w for withdraw : d\n",
      "please enter the deposite amount : 300\n",
      "('your balance now is : ', 300)\n",
      "\n",
      "do you want to make a withdraw transaction ? y for yes and n for no : y\n",
      "please enter the amount you want to withdraw : 200\n",
      "('your balance now is : ', 100)\n"
     ]
    }
   ],
   "source": [
    "#Question 4\n",
    "class Bank:\n",
    "    def __init__(self):\n",
    "        self.balance = 0\n",
    "    def deposit(self):\n",
    "        x = int(input(\"please enter the deposite amount : \"))\n",
    "        self.balance = self.balance + x\n",
    "        return \"your balance now is : \", self.balance\n",
    "    def withdraw(self):\n",
    "        y = int(input(\"please enter the amount you want to withdraw : \"))\n",
    "        if y <= self.balance:\n",
    "            self.balance = self.balance - y\n",
    "            return \"your balance now is : \", self.balance\n",
    "        else:\n",
    "            return (\"insufficient balance\")\n",
    "\n",
    "\n",
    "action = Bank()\n",
    "z = input(\"please enter d for deposite or w for withdraw : \")\n",
    "\n",
    "\n",
    "\n",
    "if z == \"d\":\n",
    "    print(action.deposit())\n",
    "    p = input(\"\\ndo you want to make a withdraw transaction ? y for yes and n for no : \")\n",
    "    if p == \"y\":\n",
    "        print(action.withdraw())\n",
    "    else:\n",
    "        print(\"\\nthanks for using our service\")\n",
    "\n",
    "\n",
    "elif z == \"w\":\n",
    "    print(action.withdraw())\n",
    "    m = input(\"\\ndo you want to make a deposite transaction ? y for yes and n for no : \")\n",
    "    if m == \"y\":\n",
    "        print(action.deposit())\n",
    "    else:\n",
    "        print(\"\\nthanks for using our service\")\n",
    "\n",
    "\n",
    "else:\n",
    "    print(\"\\ninvalid entry\")\n"
   ]
  },
  {
   "cell_type": "code",
   "execution_count": null,
   "id": "ea1f1c99",
   "metadata": {},
   "outputs": [],
   "source": []
  }
 ],
 "metadata": {
  "kernelspec": {
   "display_name": "Python 3",
   "language": "python",
   "name": "python3"
  },
  "language_info": {
   "codemirror_mode": {
    "name": "ipython",
    "version": 3
   },
   "file_extension": ".py",
   "mimetype": "text/x-python",
   "name": "python",
   "nbconvert_exporter": "python",
   "pygments_lexer": "ipython3",
   "version": "3.8.8"
  }
 },
 "nbformat": 4,
 "nbformat_minor": 5
}
