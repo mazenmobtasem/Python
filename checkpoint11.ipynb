{
 "cells": [
  {
   "cell_type": "code",
   "execution_count": null,
   "id": "13340fda",
   "metadata": {},
   "outputs": [
    {
     "name": "stdout",
     "output_type": "stream",
     "text": [
      "Please enter the number of seconds : 90\n",
      "00:57\r"
     ]
    }
   ],
   "source": [
    "import time\n",
    "\n",
    "seconds = int(input(\"Please enter the number of seconds : \"))\n",
    "\n",
    "def countdown(t):\n",
    "    while t:\n",
    "        mins = t // 60\n",
    "        secs = t % 60\n",
    "        timeformat = '{:02d}:{:02d}'.format(mins, secs)\n",
    "        print(timeformat, end='\\r')\n",
    "        time.sleep(1)\n",
    "        t -= 1\n",
    "    print(\"Fire in the hole!!\")\n",
    "\n",
    "countdown(seconds)"
   ]
  },
  {
   "cell_type": "code",
   "execution_count": null,
   "id": "e6e60efa",
   "metadata": {},
   "outputs": [],
   "source": []
  }
 ],
 "metadata": {
  "kernelspec": {
   "display_name": "Python 3",
   "language": "python",
   "name": "python3"
  },
  "language_info": {
   "codemirror_mode": {
    "name": "ipython",
    "version": 3
   },
   "file_extension": ".py",
   "mimetype": "text/x-python",
   "name": "python",
   "nbconvert_exporter": "python",
   "pygments_lexer": "ipython3",
   "version": "3.8.8"
  }
 },
 "nbformat": 4,
 "nbformat_minor": 5
}
